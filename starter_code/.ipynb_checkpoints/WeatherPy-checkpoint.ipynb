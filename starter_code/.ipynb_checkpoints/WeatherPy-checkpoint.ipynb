{
 "cells": [
  {
   "cell_type": "code",
   "execution_count": 1,
   "metadata": {},
   "outputs": [
    {
     "name": "stdout",
     "output_type": "stream",
     "text": [
      "Requirement already satisfied: citipy in c:\\users\\jared\\anaconda3\\lib\\site-packages (0.0.5)\n",
      "Requirement already satisfied: kdtree>=0.12 in c:\\users\\jared\\anaconda3\\lib\\site-packages (from citipy) (0.16)\n",
      "Note: you may need to restart the kernel to use updated packages.\n"
     ]
    }
   ],
   "source": [
    " pip install citipy"
   ]
  },
  {
   "cell_type": "markdown",
   "metadata": {},
   "source": [
    "# WeatherPy\n",
    "----\n",
    "\n",
    "#### Note\n",
    "* Instructions have been included for each segment. You do not have to follow them exactly, but they are included to help you think through the steps."
   ]
  },
  {
   "cell_type": "code",
   "execution_count": 1,
   "metadata": {
    "scrolled": true
   },
   "outputs": [],
   "source": [
    "# Dependencies and Setup\n",
    "import matplotlib.pyplot as plt\n",
    "import pandas as pd\n",
    "import numpy as np\n",
    "import requests\n",
    "import time\n",
    "from scipy.stats import linregress\n",
    "\n",
    "# Import API key\n",
    "from api_keys import weather_api_key\n",
    "\n",
    "# Incorporated citipy to determine city based on latitude and longitude\n",
    "from citipy import citipy\n",
    "\n",
    "# Output File (CSV)\n",
    "city_data = \"../output_data/cities.csv\"\n",
    "\n",
    "# Range of latitudes and longitudes\n",
    "lat_range = (-90, 90)\n",
    "lng_range = (-180, 180)"
   ]
  },
  {
   "cell_type": "markdown",
   "metadata": {},
   "source": [
    "## Generate Cities List"
   ]
  },
  {
   "cell_type": "code",
   "execution_count": 2,
   "metadata": {},
   "outputs": [
    {
     "data": {
      "text/plain": [
       "617"
      ]
     },
     "execution_count": 2,
     "metadata": {},
     "output_type": "execute_result"
    }
   ],
   "source": [
    "# List for holding lat_lngs and cities\n",
    "lat_lngs = []\n",
    "cities = []\n",
    "\n",
    "# Create a set of random lat and lng combinations\n",
    "lats = np.random.uniform(lat_range[0], lat_range[1], size=1500)\n",
    "lngs = np.random.uniform(lng_range[0], lng_range[1], size=1500)\n",
    "lat_lngs = zip(lats, lngs)\n",
    "\n",
    "# Identify nearest city for each lat, lng combination\n",
    "for lat_lng in lat_lngs:\n",
    "    city = citipy.nearest_city(lat_lng[0], lat_lng[1]).city_name\n",
    "    \n",
    "    # If the city is unique, then add it to a our cities list\n",
    "    if city not in cities:\n",
    "        cities.append(city)\n",
    "\n",
    "# Print the city count to confirm sufficient count\n",
    "len(cities)"
   ]
  },
  {
   "cell_type": "markdown",
   "metadata": {},
   "source": [
    "### Perform API Calls\n",
    "* Perform a weather check on each city using a series of successive API calls.\n",
    "* Include a print log of each city as it'sbeing processed (with the city number and city name).\n"
   ]
  },
  {
   "cell_type": "code",
   "execution_count": 3,
   "metadata": {
    "scrolled": true
   },
   "outputs": [
    {
     "name": "stdout",
     "output_type": "stream",
     "text": [
      "Proccessing Record 1 of set 1 | tasiilaq\n",
      "Proccessing Record 2 of set 1 | jalu\n",
      "City not found. Skipping...\n",
      "Proccessing Record 3 of set 1 | cabo san lucas\n",
      "Proccessing Record 4 of set 1 | ancud\n",
      "Proccessing Record 5 of set 1 | southbridge\n",
      "Proccessing Record 6 of set 1 | mar del plata\n",
      "Proccessing Record 7 of set 1 | conde\n",
      "Proccessing Record 8 of set 1 | talaya\n",
      "Proccessing Record 9 of set 1 | nikolskoye\n",
      "Proccessing Record 10 of set 1 | muros\n",
      "Proccessing Record 11 of set 1 | vostok\n",
      "Proccessing Record 12 of set 1 | jamestown\n",
      "Proccessing Record 13 of set 1 | avarua\n",
      "Proccessing Record 14 of set 1 | bathsheba\n",
      "Proccessing Record 15 of set 1 | thompson\n",
      "Proccessing Record 16 of set 1 | gushikawa\n",
      "Proccessing Record 17 of set 1 | narsaq\n",
      "Proccessing Record 18 of set 1 | cherskiy\n",
      "Proccessing Record 19 of set 1 | new norfolk\n",
      "Proccessing Record 20 of set 1 | mabaruma\n",
      "Proccessing Record 21 of set 1 | rikitea\n",
      "Proccessing Record 22 of set 1 | puerto ayacucho\n",
      "Proccessing Record 23 of set 1 | trinidad\n",
      "Proccessing Record 24 of set 1 | hobart\n",
      "Proccessing Record 25 of set 1 | kapaa\n",
      "Proccessing Record 26 of set 1 | chuy\n",
      "Proccessing Record 27 of set 1 | dikson\n",
      "Proccessing Record 28 of set 1 | barrow\n",
      "Proccessing Record 29 of set 1 | khuzhir\n",
      "Proccessing Record 30 of set 1 | arraial do cabo\n",
      "Proccessing Record 31 of set 1 | shimoda\n",
      "Proccessing Record 32 of set 1 | port pirie\n",
      "Proccessing Record 33 of set 1 | albany\n",
      "Proccessing Record 34 of set 1 | ushuaia\n",
      "City not found. Skipping...\n",
      "Proccessing Record 35 of set 1 | saint-philippe\n",
      "Proccessing Record 36 of set 1 | hope\n",
      "Proccessing Record 37 of set 1 | rochegda\n",
      "Proccessing Record 38 of set 1 | mataura\n",
      "Proccessing Record 39 of set 1 | awbari\n",
      "Proccessing Record 40 of set 1 | hilo\n",
      "Proccessing Record 41 of set 1 | busselton\n",
      "Proccessing Record 42 of set 1 | hermanus\n",
      "Proccessing Record 43 of set 1 | bluff\n",
      "Proccessing Record 44 of set 1 | qaanaaq\n",
      "Proccessing Record 45 of set 1 | smoky lake\n",
      "Proccessing Record 46 of set 1 | cape town\n",
      "Proccessing Record 47 of set 1 | sattahip\n",
      "Proccessing Record 48 of set 1 | yellowknife\n",
      "Proccessing Record 49 of set 1 | port alfred\n",
      "Proccessing Record 50 of set 1 | karaton\n",
      "Proccessing Record 0 of set 2 | atuona\n",
      "Proccessing Record 1 of set 2 | padang\n",
      "Proccessing Record 2 of set 2 | gayeri\n",
      "Proccessing Record 3 of set 2 | butaritari\n",
      "Proccessing Record 4 of set 2 | nalut\n",
      "Proccessing Record 5 of set 2 | bayanday\n",
      "Proccessing Record 6 of set 2 | pevek\n",
      "City not found. Skipping...\n",
      "Proccessing Record 7 of set 2 | ribeira grande\n",
      "Proccessing Record 8 of set 2 | tromso\n",
      "Proccessing Record 9 of set 2 | loiza\n",
      "Proccessing Record 10 of set 2 | atambua\n",
      "Proccessing Record 11 of set 2 | san patricio\n",
      "Proccessing Record 12 of set 2 | bilibino\n",
      "Proccessing Record 13 of set 2 | vila velha\n",
      "Proccessing Record 14 of set 2 | port lincoln\n",
      "Proccessing Record 15 of set 2 | vaini\n",
      "City not found. Skipping...\n",
      "Proccessing Record 16 of set 2 | norman wells\n",
      "Proccessing Record 17 of set 2 | nioro\n",
      "Proccessing Record 18 of set 2 | airai\n",
      "Proccessing Record 19 of set 2 | tukrah\n",
      "Proccessing Record 20 of set 2 | thinadhoo\n",
      "Proccessing Record 21 of set 2 | basco\n",
      "City not found. Skipping...\n",
      "Proccessing Record 22 of set 2 | ixtapa\n",
      "City not found. Skipping...\n",
      "Proccessing Record 23 of set 2 | dawson creek\n",
      "Proccessing Record 24 of set 2 | popondetta\n",
      "Proccessing Record 25 of set 2 | caravelas\n",
      "Proccessing Record 26 of set 2 | naples\n",
      "Proccessing Record 27 of set 2 | aklavik\n",
      "Proccessing Record 28 of set 2 | gambo\n",
      "Proccessing Record 29 of set 2 | mahebourg\n",
      "City not found. Skipping...\n",
      "Proccessing Record 30 of set 2 | katangli\n",
      "Proccessing Record 31 of set 2 | reconquista\n",
      "Proccessing Record 32 of set 2 | beisfjord\n",
      "Proccessing Record 33 of set 2 | kawalu\n",
      "City not found. Skipping...\n",
      "Proccessing Record 34 of set 2 | kodiak\n",
      "Proccessing Record 35 of set 2 | ambulu\n",
      "Proccessing Record 36 of set 2 | punta arenas\n",
      "Proccessing Record 37 of set 2 | westport\n",
      "Proccessing Record 38 of set 2 | severo-kurilsk\n",
      "City not found. Skipping...\n",
      "Proccessing Record 39 of set 2 | richards bay\n",
      "Proccessing Record 40 of set 2 | hamilton\n",
      "City not found. Skipping...\n",
      "Proccessing Record 41 of set 2 | aroneanu\n",
      "City not found. Skipping...\n",
      "Proccessing Record 42 of set 2 | esperance\n",
      "Proccessing Record 43 of set 2 | castro\n",
      "Proccessing Record 44 of set 2 | vestmannaeyjar\n",
      "Proccessing Record 45 of set 2 | loa janan\n",
      "Proccessing Record 46 of set 2 | longyearbyen\n",
      "Proccessing Record 47 of set 2 | faanui\n",
      "City not found. Skipping...\n",
      "Proccessing Record 48 of set 2 | mys shmidta\n",
      "Proccessing Record 49 of set 2 | vao\n",
      "Proccessing Record 50 of set 2 | roald\n",
      "Proccessing Record 0 of set 3 | port hardy\n",
      "Proccessing Record 1 of set 3 | yerbogachen\n",
      "Proccessing Record 2 of set 3 | saldanha\n",
      "Proccessing Record 3 of set 3 | georgetown\n",
      "Proccessing Record 4 of set 3 | ozinki\n",
      "Proccessing Record 5 of set 3 | sisimiut\n",
      "Proccessing Record 6 of set 3 | nome\n",
      "Proccessing Record 7 of set 3 | alyangula\n",
      "Proccessing Record 8 of set 3 | dingle\n",
      "Proccessing Record 9 of set 3 | smolenka\n",
      "Proccessing Record 10 of set 3 | pisco\n",
      "Proccessing Record 11 of set 3 | sananduva\n",
      "Proccessing Record 12 of set 3 | razole\n",
      "Proccessing Record 13 of set 3 | gitarama\n",
      "Proccessing Record 14 of set 3 | bengkulu\n",
      "Proccessing Record 15 of set 3 | deputatskiy\n",
      "Proccessing Record 16 of set 3 | kupang\n",
      "Proccessing Record 17 of set 3 | hithadhoo\n",
      "Proccessing Record 18 of set 3 | upernavik\n",
      "Proccessing Record 19 of set 3 | tarauaca\n",
      "City not found. Skipping...\n",
      "City not found. Skipping...\n",
      "City not found. Skipping...\n",
      "Proccessing Record 20 of set 3 | noumea\n",
      "Proccessing Record 21 of set 3 | sao filipe\n",
      "Proccessing Record 22 of set 3 | tsiroanomandidy\n",
      "Proccessing Record 23 of set 3 | istok\n",
      "Proccessing Record 24 of set 3 | gimbi\n",
      "Proccessing Record 25 of set 3 | cidreira\n",
      "Proccessing Record 26 of set 3 | chokurdakh\n",
      "Proccessing Record 27 of set 3 | khatanga\n",
      "Proccessing Record 28 of set 3 | klaksvik\n",
      "Proccessing Record 29 of set 3 | ponta do sol\n",
      "Proccessing Record 30 of set 3 | dawei\n",
      "Proccessing Record 31 of set 3 | gorontalo\n",
      "Proccessing Record 32 of set 3 | monte azul\n",
      "Proccessing Record 33 of set 3 | salalah\n",
      "Proccessing Record 34 of set 3 | oistins\n",
      "City not found. Skipping...\n",
      "Proccessing Record 35 of set 3 | omaruru\n",
      "Proccessing Record 36 of set 3 | touros\n",
      "Proccessing Record 37 of set 3 | pacific grove\n",
      "Proccessing Record 38 of set 3 | bredasdorp\n",
      "Proccessing Record 39 of set 3 | kaitangata\n",
      "Proccessing Record 40 of set 3 | rawson\n",
      "Proccessing Record 41 of set 3 | luderitz\n",
      "Proccessing Record 42 of set 3 | araceli\n",
      "City not found. Skipping...\n",
      "Proccessing Record 43 of set 3 | kahului\n",
      "City not found. Skipping...\n",
      "Proccessing Record 44 of set 3 | nemuro\n",
      "Proccessing Record 45 of set 3 | mayumba\n",
      "Proccessing Record 46 of set 3 | puerto ayora\n",
      "Proccessing Record 47 of set 3 | casablanca\n",
      "City not found. Skipping...\n",
      "Proccessing Record 48 of set 3 | carnarvon\n",
      "Proccessing Record 49 of set 3 | correntina\n",
      "Proccessing Record 50 of set 3 | wuda\n",
      "Proccessing Record 0 of set 4 | sorochinsk\n",
      "Proccessing Record 1 of set 4 | grand river south east\n",
      "City not found. Skipping...\n",
      "Proccessing Record 2 of set 4 | paragominas\n",
      "Proccessing Record 3 of set 4 | victoria\n",
      "Proccessing Record 4 of set 4 | boshan\n",
      "Proccessing Record 5 of set 4 | altagracia de orituco\n",
      "Proccessing Record 6 of set 4 | borogontsy\n",
      "City not found. Skipping...\n",
      "Proccessing Record 7 of set 4 | grand-santi\n",
      "City not found. Skipping...\n",
      "Proccessing Record 8 of set 4 | savonlinna\n",
      "Proccessing Record 9 of set 4 | luanda\n",
      "City not found. Skipping...\n",
      "Proccessing Record 10 of set 4 | east london\n",
      "City not found. Skipping...\n",
      "Proccessing Record 11 of set 4 | glazunovka\n",
      "Proccessing Record 12 of set 4 | beipiao\n",
      "Proccessing Record 13 of set 4 | finschhafen\n",
      "Proccessing Record 14 of set 4 | sorong\n",
      "Proccessing Record 15 of set 4 | sambava\n",
      "Proccessing Record 16 of set 4 | muisne\n",
      "Proccessing Record 17 of set 4 | wamba\n",
      "Proccessing Record 18 of set 4 | sangar\n",
      "Proccessing Record 19 of set 4 | carutapera\n",
      "Proccessing Record 20 of set 4 | birigui\n",
      "Proccessing Record 21 of set 4 | burnie\n",
      "City not found. Skipping...\n",
      "Proccessing Record 22 of set 4 | saskylakh\n",
      "Proccessing Record 23 of set 4 | beringovskiy\n",
      "Proccessing Record 24 of set 4 | san miguel\n",
      "Proccessing Record 25 of set 4 | babu\n",
      "Proccessing Record 26 of set 4 | sokoto\n"
     ]
    },
    {
     "name": "stdout",
     "output_type": "stream",
     "text": [
      "Proccessing Record 27 of set 4 | cabedelo\n",
      "City not found. Skipping...\n",
      "City not found. Skipping...\n",
      "Proccessing Record 28 of set 4 | biak\n",
      "Proccessing Record 29 of set 4 | polunochnoye\n",
      "Proccessing Record 30 of set 4 | lavrentiya\n",
      "Proccessing Record 31 of set 4 | celendin\n",
      "Proccessing Record 32 of set 4 | kohima\n",
      "Proccessing Record 33 of set 4 | pyshchug\n",
      "Proccessing Record 34 of set 4 | torbay\n",
      "Proccessing Record 35 of set 4 | boddam\n",
      "Proccessing Record 36 of set 4 | margate\n",
      "Proccessing Record 37 of set 4 | san luis\n",
      "Proccessing Record 38 of set 4 | ilulissat\n",
      "Proccessing Record 39 of set 4 | escarcega\n",
      "Proccessing Record 40 of set 4 | port elizabeth\n",
      "Proccessing Record 41 of set 4 | shache\n",
      "Proccessing Record 42 of set 4 | gasa\n",
      "Proccessing Record 43 of set 4 | nara\n",
      "Proccessing Record 44 of set 4 | haines junction\n",
      "Proccessing Record 45 of set 4 | fresnillo\n",
      "City not found. Skipping...\n",
      "Proccessing Record 46 of set 4 | hasaki\n",
      "City not found. Skipping...\n",
      "Proccessing Record 47 of set 4 | calamar\n",
      "Proccessing Record 48 of set 4 | blagoyevo\n",
      "Proccessing Record 49 of set 4 | tautira\n",
      "Proccessing Record 50 of set 4 | constitucion\n",
      "Proccessing Record 0 of set 5 | bethel\n",
      "Proccessing Record 1 of set 5 | asyut\n",
      "Proccessing Record 2 of set 5 | souillac\n",
      "Proccessing Record 3 of set 5 | burgeo\n",
      "Proccessing Record 4 of set 5 | ponot\n",
      "Proccessing Record 5 of set 5 | saint-pierre\n",
      "Proccessing Record 6 of set 5 | adrar\n",
      "City not found. Skipping...\n",
      "Proccessing Record 7 of set 5 | akyab\n",
      "Proccessing Record 8 of set 5 | bac lieu\n",
      "City not found. Skipping...\n",
      "Proccessing Record 9 of set 5 | kamariotissa\n",
      "Proccessing Record 10 of set 5 | atar\n",
      "Proccessing Record 11 of set 5 | cascais\n",
      "City not found. Skipping...\n",
      "Proccessing Record 12 of set 5 | sinnamary\n",
      "City not found. Skipping...\n",
      "Proccessing Record 13 of set 5 | falkenberg\n",
      "Proccessing Record 14 of set 5 | olinda\n",
      "City not found. Skipping...\n",
      "Proccessing Record 15 of set 5 | poum\n",
      "Proccessing Record 16 of set 5 | flinders\n",
      "Proccessing Record 17 of set 5 | bandarbeyla\n",
      "Proccessing Record 18 of set 5 | novo aripuana\n",
      "Proccessing Record 19 of set 5 | mufulira\n",
      "Proccessing Record 20 of set 5 | heihe\n",
      "Proccessing Record 21 of set 5 | ossora\n",
      "Proccessing Record 22 of set 5 | cabras\n",
      "Proccessing Record 23 of set 5 | provideniya\n",
      "Proccessing Record 24 of set 5 | avera\n",
      "Proccessing Record 25 of set 5 | lahaina\n",
      "City not found. Skipping...\n",
      "Proccessing Record 26 of set 5 | necochea\n",
      "Proccessing Record 27 of set 5 | nuuk\n",
      "Proccessing Record 28 of set 5 | erenhot\n",
      "City not found. Skipping...\n",
      "City not found. Skipping...\n",
      "City not found. Skipping...\n",
      "Proccessing Record 29 of set 5 | altar\n",
      "Proccessing Record 30 of set 5 | yumen\n",
      "Proccessing Record 31 of set 5 | at-bashi\n",
      "Proccessing Record 32 of set 5 | dangriga\n",
      "Proccessing Record 33 of set 5 | mount gambier\n",
      "Proccessing Record 34 of set 5 | shivrajpur\n",
      "Proccessing Record 35 of set 5 | andenes\n",
      "Proccessing Record 36 of set 5 | fairbanks\n",
      "Proccessing Record 37 of set 5 | guerande\n",
      "Proccessing Record 38 of set 5 | nacala\n",
      "Proccessing Record 39 of set 5 | fuerte olimpo\n",
      "Proccessing Record 40 of set 5 | dhidhdhoo\n",
      "City not found. Skipping...\n",
      "Proccessing Record 41 of set 5 | kruisfontein\n",
      "Proccessing Record 42 of set 5 | falam\n",
      "Proccessing Record 43 of set 5 | mahbubabad\n",
      "Proccessing Record 44 of set 5 | axim\n",
      "Proccessing Record 45 of set 5 | lauterbach\n",
      "Proccessing Record 46 of set 5 | bambous virieux\n",
      "Proccessing Record 47 of set 5 | asau\n",
      "Proccessing Record 48 of set 5 | lompoc\n",
      "Proccessing Record 49 of set 5 | kununurra\n",
      "Proccessing Record 50 of set 5 | thessalon\n",
      "Proccessing Record 0 of set 6 | golden\n",
      "Proccessing Record 1 of set 6 | mandalgovi\n",
      "Proccessing Record 2 of set 6 | alice springs\n",
      "Proccessing Record 3 of set 6 | mezen\n",
      "Proccessing Record 4 of set 6 | mwinilunga\n",
      "Proccessing Record 5 of set 6 | codrington\n",
      "Proccessing Record 6 of set 6 | havre-saint-pierre\n",
      "Proccessing Record 7 of set 6 | polovinnoye\n",
      "Proccessing Record 8 of set 6 | abu kamal\n",
      "Proccessing Record 9 of set 6 | aleppo\n",
      "City not found. Skipping...\n",
      "Proccessing Record 10 of set 6 | marand\n",
      "Proccessing Record 11 of set 6 | phan thiet\n",
      "Proccessing Record 12 of set 6 | hofn\n",
      "Proccessing Record 13 of set 6 | ouidah\n",
      "Proccessing Record 14 of set 6 | kaupanger\n",
      "Proccessing Record 15 of set 6 | krasnoselkup\n",
      "Proccessing Record 16 of set 6 | dargaville\n",
      "Proccessing Record 17 of set 6 | mwene-ditu\n",
      "Proccessing Record 18 of set 6 | rabat\n",
      "Proccessing Record 19 of set 6 | hami\n",
      "Proccessing Record 20 of set 6 | chulman\n",
      "Proccessing Record 21 of set 6 | tual\n",
      "Proccessing Record 22 of set 6 | hambantota\n",
      "Proccessing Record 23 of set 6 | bani walid\n",
      "Proccessing Record 24 of set 6 | vanavara\n",
      "Proccessing Record 25 of set 6 | kamakhyanagar\n",
      "Proccessing Record 26 of set 6 | bonnyville\n",
      "Proccessing Record 27 of set 6 | cayenne\n",
      "Proccessing Record 28 of set 6 | karratha\n",
      "Proccessing Record 29 of set 6 | nouadhibou\n",
      "Proccessing Record 30 of set 6 | mitchell\n",
      "Proccessing Record 31 of set 6 | lasa\n",
      "Proccessing Record 32 of set 6 | waingapu\n",
      "Proccessing Record 33 of set 6 | potchefstroom\n",
      "Proccessing Record 34 of set 6 | fortuna\n",
      "Proccessing Record 35 of set 6 | ishikawa\n",
      "Proccessing Record 36 of set 6 | clyde river\n",
      "Proccessing Record 37 of set 6 | tuensang\n",
      "Proccessing Record 38 of set 6 | katsuura\n",
      "Proccessing Record 39 of set 6 | tuktoyaktuk\n",
      "Proccessing Record 40 of set 6 | payao\n",
      "Proccessing Record 41 of set 6 | phalombe\n",
      "Proccessing Record 42 of set 6 | lorengau\n",
      "Proccessing Record 43 of set 6 | luancheng\n",
      "Proccessing Record 44 of set 6 | biltine\n",
      "Proccessing Record 45 of set 6 | samarai\n",
      "Proccessing Record 46 of set 6 | kloulklubed\n",
      "Proccessing Record 47 of set 6 | tongzi\n",
      "Proccessing Record 48 of set 6 | marawi\n",
      "Proccessing Record 49 of set 6 | grindavik\n",
      "Proccessing Record 50 of set 6 | belmonte\n",
      "Proccessing Record 0 of set 7 | kenai\n",
      "Proccessing Record 1 of set 7 | santa maria\n",
      "Proccessing Record 2 of set 7 | taoudenni\n",
      "Proccessing Record 3 of set 7 | banff\n",
      "Proccessing Record 4 of set 7 | sungairaya\n",
      "Proccessing Record 5 of set 7 | college\n",
      "Proccessing Record 6 of set 7 | maningrida\n",
      "Proccessing Record 7 of set 7 | cedar city\n",
      "Proccessing Record 8 of set 7 | san cristobal\n",
      "Proccessing Record 9 of set 7 | valuyki\n",
      "Proccessing Record 10 of set 7 | cairns\n",
      "Proccessing Record 11 of set 7 | kolobrzeg\n",
      "Proccessing Record 12 of set 7 | ahuimanu\n",
      "City not found. Skipping...\n",
      "Proccessing Record 13 of set 7 | san lorenzo\n",
      "Proccessing Record 14 of set 7 | mtwara\n",
      "City not found. Skipping...\n",
      "Proccessing Record 15 of set 7 | yantzaza\n",
      "Proccessing Record 16 of set 7 | sitka\n",
      "Proccessing Record 17 of set 7 | marsh harbour\n",
      "Proccessing Record 18 of set 7 | cocobeach\n",
      "Proccessing Record 19 of set 7 | selenginsk\n",
      "Proccessing Record 20 of set 7 | pangnirtung\n",
      "Proccessing Record 21 of set 7 | akureyri\n",
      "Proccessing Record 22 of set 7 | emba\n",
      "Proccessing Record 23 of set 7 | hobyo\n",
      "Proccessing Record 24 of set 7 | hirara\n",
      "Proccessing Record 25 of set 7 | sobolevo\n",
      "Proccessing Record 26 of set 7 | erzin\n",
      "Proccessing Record 27 of set 7 | jiayuguan\n",
      "Proccessing Record 28 of set 7 | juneau\n",
      "Proccessing Record 29 of set 7 | sao miguel do araguaia\n",
      "City not found. Skipping...\n",
      "Proccessing Record 30 of set 7 | otane\n",
      "Proccessing Record 31 of set 7 | joshimath\n",
      "Proccessing Record 32 of set 7 | akhtanizovskaya\n",
      "Proccessing Record 33 of set 7 | manado\n",
      "Proccessing Record 34 of set 7 | najran\n",
      "Proccessing Record 35 of set 7 | reo\n",
      "Proccessing Record 36 of set 7 | mecca\n",
      "Proccessing Record 37 of set 7 | talnakh\n",
      "Proccessing Record 38 of set 7 | bangui\n",
      "Proccessing Record 39 of set 7 | kijang\n",
      "Proccessing Record 40 of set 7 | leningradskiy\n",
      "Proccessing Record 41 of set 7 | peniche\n",
      "Proccessing Record 42 of set 7 | key largo\n",
      "Proccessing Record 43 of set 7 | santa rosa\n",
      "City not found. Skipping...\n",
      "Proccessing Record 44 of set 7 | ahipara\n",
      "Proccessing Record 45 of set 7 | likhoslavl\n",
      "Proccessing Record 46 of set 7 | kvareli\n",
      "Proccessing Record 47 of set 7 | sorland\n",
      "Proccessing Record 48 of set 7 | mehamn\n",
      "Proccessing Record 49 of set 7 | fort nelson\n",
      "Proccessing Record 50 of set 7 | tunceli\n",
      "City not found. Skipping...\n",
      "Proccessing Record 0 of set 8 | segou\n",
      "Proccessing Record 1 of set 8 | nouakchott\n",
      "Proccessing Record 2 of set 8 | taicheng\n",
      "City not found. Skipping...\n",
      "Proccessing Record 3 of set 8 | geraldton\n",
      "Proccessing Record 4 of set 8 | petropavlovsk-kamchatskiy\n"
     ]
    },
    {
     "name": "stdout",
     "output_type": "stream",
     "text": [
      "Proccessing Record 5 of set 8 | guerrero negro\n",
      "Proccessing Record 6 of set 8 | merauke\n",
      "Proccessing Record 7 of set 8 | ostrovnoy\n",
      "Proccessing Record 8 of set 8 | datong\n",
      "City not found. Skipping...\n",
      "City not found. Skipping...\n",
      "Proccessing Record 9 of set 8 | san carlos de bariloche\n",
      "Proccessing Record 10 of set 8 | stepnyak\n",
      "Proccessing Record 11 of set 8 | revda\n",
      "Proccessing Record 12 of set 8 | nhulunbuy\n",
      "Proccessing Record 13 of set 8 | massakory\n",
      "Proccessing Record 14 of set 8 | ballangen\n",
      "Proccessing Record 15 of set 8 | narok\n",
      "Proccessing Record 16 of set 8 | lagoa\n",
      "City not found. Skipping...\n",
      "Proccessing Record 17 of set 8 | chernyshevskiy\n",
      "Proccessing Record 18 of set 8 | manaus\n",
      "Proccessing Record 19 of set 8 | iqaluit\n",
      "Proccessing Record 20 of set 8 | tuy hoa\n",
      "City not found. Skipping...\n",
      "Proccessing Record 21 of set 8 | awjilah\n",
      "Proccessing Record 22 of set 8 | parana\n",
      "Proccessing Record 23 of set 8 | jumla\n",
      "Proccessing Record 24 of set 8 | pucara\n",
      "Proccessing Record 25 of set 8 | teya\n",
      "Proccessing Record 26 of set 8 | muncar\n",
      "City not found. Skipping...\n",
      "Proccessing Record 27 of set 8 | goderich\n",
      "Proccessing Record 28 of set 8 | boa vista\n",
      "Proccessing Record 29 of set 8 | paka\n",
      "Proccessing Record 30 of set 8 | oxbow\n",
      "Proccessing Record 31 of set 8 | hit\n",
      "Proccessing Record 32 of set 8 | faya\n",
      "City not found. Skipping...\n",
      "Proccessing Record 33 of set 8 | camana\n",
      "Proccessing Record 34 of set 8 | buala\n",
      "Proccessing Record 35 of set 8 | sibolga\n",
      "Proccessing Record 36 of set 8 | mount isa\n",
      "Proccessing Record 37 of set 8 | cockburn town\n",
      "Proccessing Record 38 of set 8 | mikuni\n",
      "City not found. Skipping...\n",
      "Proccessing Record 39 of set 8 | yangambi\n",
      "Proccessing Record 40 of set 8 | irbeyskoye\n",
      "Proccessing Record 41 of set 8 | roebourne\n",
      "Proccessing Record 42 of set 8 | abu dhabi\n",
      "Proccessing Record 43 of set 8 | sao felix do xingu\n",
      "Proccessing Record 44 of set 8 | yamada\n",
      "Proccessing Record 45 of set 8 | virden\n",
      "Proccessing Record 46 of set 8 | kavieng\n",
      "Proccessing Record 47 of set 8 | high level\n",
      "City not found. Skipping...\n",
      "Proccessing Record 48 of set 8 | tuatapere\n",
      "Proccessing Record 49 of set 8 | caborca\n",
      "Proccessing Record 50 of set 8 | vilhena\n",
      "Proccessing Record 0 of set 9 | fort abbas\n",
      "Proccessing Record 1 of set 9 | kilimatinde\n",
      "City not found. Skipping...\n",
      "City not found. Skipping...\n",
      "Proccessing Record 2 of set 9 | khunti\n",
      "Proccessing Record 3 of set 9 | orcopampa\n",
      "Proccessing Record 4 of set 9 | antalaha\n",
      "Proccessing Record 5 of set 9 | keflavik\n",
      "Proccessing Record 6 of set 9 | rorvik\n",
      "Proccessing Record 7 of set 9 | kavaratti\n",
      "Proccessing Record 8 of set 9 | botro\n",
      "Proccessing Record 9 of set 9 | rundu\n",
      "Proccessing Record 10 of set 9 | ballina\n",
      "Proccessing Record 11 of set 9 | kabanjahe\n",
      "Proccessing Record 12 of set 9 | maturin\n",
      "City not found. Skipping...\n",
      "Proccessing Record 13 of set 9 | sioux lookout\n",
      "Proccessing Record 14 of set 9 | abensberg\n",
      "Proccessing Record 15 of set 9 | gizo\n",
      "Proccessing Record 16 of set 9 | bukan\n",
      "Proccessing Record 17 of set 9 | shenjiamen\n",
      "Proccessing Record 18 of set 9 | dosso\n",
      "Proccessing Record 19 of set 9 | sao joao da barra\n",
      "Proccessing Record 20 of set 9 | nanortalik\n",
      "Proccessing Record 21 of set 9 | bac giang\n",
      "Proccessing Record 22 of set 9 | ugoofaaru\n",
      "Proccessing Record 23 of set 9 | berlevag\n",
      "Proccessing Record 24 of set 9 | shchors\n",
      "Proccessing Record 25 of set 9 | udachnyy\n",
      "Proccessing Record 26 of set 9 | coihaique\n",
      "Proccessing Record 27 of set 9 | varhaug\n",
      "Proccessing Record 28 of set 9 | kahramanmaras\n",
      "Proccessing Record 29 of set 9 | vardo\n",
      "Proccessing Record 30 of set 9 | suhbaatar\n",
      "City not found. Skipping...\n",
      "Proccessing Record 31 of set 9 | sulangan\n",
      "Proccessing Record 32 of set 9 | makungu\n",
      "Proccessing Record 33 of set 9 | manadhoo\n",
      "Proccessing Record 34 of set 9 | portree\n",
      "Proccessing Record 35 of set 9 | doha\n",
      "Proccessing Record 36 of set 9 | plouzane\n",
      "Proccessing Record 37 of set 9 | sept-iles\n",
      "Proccessing Record 38 of set 9 | hanzhong\n",
      "Proccessing Record 39 of set 9 | skjervoy\n",
      "Proccessing Record 40 of set 9 | makakilo city\n",
      "Proccessing Record 41 of set 9 | mareeba\n",
      "Proccessing Record 42 of set 9 | viransehir\n",
      "Proccessing Record 43 of set 9 | birao\n",
      "Proccessing Record 44 of set 9 | bilma\n",
      "Proccessing Record 45 of set 9 | vestnes\n",
      "Proccessing Record 46 of set 9 | semme\n",
      "Proccessing Record 47 of set 9 | minyar\n",
      "Proccessing Record 48 of set 9 | cochrane\n",
      "City not found. Skipping...\n",
      "Proccessing Record 49 of set 9 | coquimbo\n",
      "Proccessing Record 50 of set 9 | sovetskiy\n",
      "Proccessing Record 0 of set 10 | laguna\n",
      "Proccessing Record 1 of set 10 | magistralnyy\n",
      "Proccessing Record 2 of set 10 | yanam\n",
      "Proccessing Record 3 of set 10 | san vicente\n",
      "Proccessing Record 4 of set 10 | riviere-au-renard\n",
      "Proccessing Record 5 of set 10 | kamaishi\n",
      "Proccessing Record 6 of set 10 | egvekinot\n",
      "Proccessing Record 7 of set 10 | chapais\n",
      "Proccessing Record 8 of set 10 | novopokrovka\n",
      "Proccessing Record 9 of set 10 | dondo\n",
      "Proccessing Record 10 of set 10 | longkou\n",
      "Proccessing Record 11 of set 10 | kiruna\n",
      "City not found. Skipping...\n",
      "Proccessing Record 12 of set 10 | tolmin\n",
      "Proccessing Record 13 of set 10 | loandjili\n",
      "Proccessing Record 14 of set 10 | belaya gora\n",
      "Proccessing Record 15 of set 10 | maniitsoq\n",
      "Proccessing Record 16 of set 10 | baghdad\n",
      "Proccessing Record 17 of set 10 | estrela\n",
      "City not found. Skipping...\n",
      "Proccessing Record 18 of set 10 | nikolayevskaya\n",
      "Proccessing Record 19 of set 10 | kindu\n",
      "Proccessing Record 20 of set 10 | jaumave\n",
      "Proccessing Record 21 of set 10 | tezu\n",
      "Proccessing Record 22 of set 10 | llanes\n",
      "Proccessing Record 23 of set 10 | diffa\n",
      "Proccessing Record 24 of set 10 | boone\n",
      "City not found. Skipping...\n",
      "Proccessing Record 25 of set 10 | chicama\n",
      "Proccessing Record 26 of set 10 | key west\n",
      "Proccessing Record 27 of set 10 | san quintin\n",
      "Proccessing Record 28 of set 10 | chardara\n",
      "Proccessing Record 29 of set 10 | lebu\n",
      "Proccessing Record 30 of set 10 | namibe\n",
      "Proccessing Record 31 of set 10 | camacha\n",
      "Proccessing Record 32 of set 10 | fengrun\n",
      "City not found. Skipping...\n",
      "Proccessing Record 33 of set 10 | beloha\n",
      "Proccessing Record 34 of set 10 | lokosovo\n",
      "City not found. Skipping...\n",
      "Proccessing Record 35 of set 10 | kilindoni\n",
      "Proccessing Record 36 of set 10 | komsomolskiy\n",
      "Proccessing Record 37 of set 10 | ambon\n",
      "Proccessing Record 38 of set 10 | port macquarie\n",
      "City not found. Skipping...\n",
      "Proccessing Record 39 of set 10 | gawler\n",
      "Proccessing Record 40 of set 10 | ueno\n",
      "Proccessing Record 41 of set 10 | wukari\n",
      "Proccessing Record 42 of set 10 | evensk\n",
      "Proccessing Record 43 of set 10 | aleksandrov gay\n",
      "Proccessing Record 44 of set 10 | milkovo\n",
      "Proccessing Record 45 of set 10 | yulara\n",
      "Proccessing Record 46 of set 10 | poya\n",
      "City not found. Skipping...\n",
      "Proccessing Record 47 of set 10 | lagoa da prata\n",
      "Proccessing Record 48 of set 10 | alta floresta\n",
      "Proccessing Record 49 of set 10 | pedernales\n",
      "Proccessing Record 50 of set 10 | gimli\n",
      "Proccessing Record 0 of set 11 | shestakovo\n",
      "Proccessing Record 1 of set 11 | gonaives\n",
      "Proccessing Record 2 of set 11 | machico\n",
      "Proccessing Record 3 of set 11 | san borja\n",
      "Proccessing Record 4 of set 11 | san ramon de la nueva oran\n",
      "Proccessing Record 5 of set 11 | cabinda\n",
      "Proccessing Record 6 of set 11 | manggar\n",
      "Proccessing Record 7 of set 11 | odweyne\n",
      "Proccessing Record 8 of set 11 | salisbury\n",
      "Proccessing Record 9 of set 11 | lyubar\n",
      "Proccessing Record 10 of set 11 | rosarito\n",
      "Proccessing Record 11 of set 11 | amuntai\n",
      "Proccessing Record 12 of set 11 | bourail\n",
      "City not found. Skipping...\n",
      "Proccessing Record 13 of set 11 | manali\n",
      "City not found. Skipping...\n",
      "Proccessing Record 14 of set 11 | jauja\n",
      "Proccessing Record 15 of set 11 | algeciras\n",
      "Proccessing Record 16 of set 11 | srednekolymsk\n",
      "Proccessing Record 17 of set 11 | shaki\n",
      "Proccessing Record 18 of set 11 | henderson\n",
      "Proccessing Record 19 of set 11 | tabou\n",
      "Proccessing Record 20 of set 11 | isla mujeres\n",
      "Proccessing Record 21 of set 11 | araouane\n",
      "City not found. Skipping...\n",
      "Proccessing Record 22 of set 11 | vega de alatorre\n",
      "Proccessing Record 23 of set 11 | zanesville\n",
      "Proccessing Record 24 of set 11 | ulaangom\n",
      "Proccessing Record 25 of set 11 | pasni\n",
      "Proccessing Record 26 of set 11 | huarmey\n",
      "Proccessing Record 27 of set 11 | raudeberg\n",
      "Proccessing Record 28 of set 11 | veraval\n",
      "Proccessing Record 29 of set 11 | durant\n",
      "Proccessing Record 30 of set 11 | iraquara\n"
     ]
    },
    {
     "name": "stdout",
     "output_type": "stream",
     "text": [
      "Proccessing Record 31 of set 11 | ust-tsilma\n",
      "Proccessing Record 32 of set 11 | matay\n",
      "Proccessing Record 33 of set 11 | demyansk\n",
      "Proccessing Record 34 of set 11 | esna\n",
      "Proccessing Record 35 of set 11 | kizner\n",
      "Proccessing Record 36 of set 11 | mbini\n",
      "Proccessing Record 37 of set 11 | obera\n",
      "Proccessing Record 38 of set 11 | bairnsdale\n",
      "-------------------------------------\n",
      "Data Retrieval is Complete\n",
      "-------------------------------------\n"
     ]
    }
   ],
   "source": [
    "\n",
    "query_url = f\"http://api.openweathermap.org/data/2.5/weather?appid={weather_api_key}&units=Imperial&q=\"\n",
    "\n",
    "\n",
    "city_name = []\n",
    "lats = []\n",
    "lngs = []\n",
    "temp = []\n",
    "wind_speeds = []\n",
    "humidity = []\n",
    "cloudiness = []\n",
    "country = []\n",
    "date = []\n",
    "#set count holders to make the sets\n",
    "counts = 0\n",
    "sets = 1\n",
    "\n",
    "\n",
    "for city in cities:\n",
    "    try:\n",
    "        w_data = requests.get(query_url + city.replace(\" \", \"&\")).json()\n",
    "        lats.append(w_data[\"coord\"][\"lat\"])\n",
    "        lngs.append(w_data[\"coord\"][\"lon\"])\n",
    "        temp.append(w_data[\"main\"][\"temp_max\"])\n",
    "        wind_speeds.append(w_data[\"wind\"][\"speed\"])\n",
    "        humidity.append(w_data[\"main\"][\"humidity\"])\n",
    "        cloudiness.append(w_data[\"clouds\"][\"all\"])\n",
    "        country.append(w_data[\"sys\"][\"country\"])\n",
    "        date.append(w_data[\"dt\"])\n",
    "#Setup the counts and sets to  mange cities        \n",
    "        if counts > 49:\n",
    "            counts = 0\n",
    "            sets += 1\n",
    "            city_name.append(city)\n",
    "                 \n",
    "        else:\n",
    "            counts += 1\n",
    "            city_name.append(city)\n",
    "            \n",
    "        print(f\"Proccessing Record {counts} of set {sets} | {city}\")\n",
    "              \n",
    "    except KeyError:\n",
    "        print(\"City not found. Skipping...\")\n",
    "            \n",
    "print(\"-------------------------------------\")\n",
    "print(\"Data Retrieval is Complete\")\n",
    "print(\"-------------------------------------\")\n",
    "\n",
    "\n",
    "\n",
    "\n",
    "\n",
    "\n",
    "\n",
    "\n",
    "\n",
    "\n",
    "\n",
    "\n"
   ]
  },
  {
   "cell_type": "markdown",
   "metadata": {},
   "source": [
    "### Convert Raw Data to DataFrame\n",
    "* Export the city data into a .csv.\n",
    "* Display the DataFrame"
   ]
  },
  {
   "cell_type": "code",
   "execution_count": 8,
   "metadata": {},
   "outputs": [
    {
     "data": {
      "text/html": [
       "<div>\n",
       "<style scoped>\n",
       "    .dataframe tbody tr th:only-of-type {\n",
       "        vertical-align: middle;\n",
       "    }\n",
       "\n",
       "    .dataframe tbody tr th {\n",
       "        vertical-align: top;\n",
       "    }\n",
       "\n",
       "    .dataframe thead th {\n",
       "        text-align: right;\n",
       "    }\n",
       "</style>\n",
       "<table border=\"1\" class=\"dataframe\">\n",
       "  <thead>\n",
       "    <tr style=\"text-align: right;\">\n",
       "      <th></th>\n",
       "      <th>City</th>\n",
       "      <th>Lat</th>\n",
       "      <th>Lng</th>\n",
       "      <th>Max Temp</th>\n",
       "      <th>Humidity</th>\n",
       "      <th>Cloudiness</th>\n",
       "      <th>Wind Speed</th>\n",
       "      <th>Country</th>\n",
       "      <th>Date</th>\n",
       "    </tr>\n",
       "  </thead>\n",
       "  <tbody>\n",
       "    <tr>\n",
       "      <th>0</th>\n",
       "      <td>tasiilaq</td>\n",
       "      <td>65.6145</td>\n",
       "      <td>-37.6368</td>\n",
       "      <td>23.0</td>\n",
       "      <td>80</td>\n",
       "      <td>90</td>\n",
       "      <td>2.71</td>\n",
       "      <td>GL</td>\n",
       "      <td>1618713479</td>\n",
       "    </tr>\n",
       "    <tr>\n",
       "      <th>1</th>\n",
       "      <td>jalu</td>\n",
       "      <td>29.0331</td>\n",
       "      <td>21.5482</td>\n",
       "      <td>77.2</td>\n",
       "      <td>24</td>\n",
       "      <td>16</td>\n",
       "      <td>9.35</td>\n",
       "      <td>LY</td>\n",
       "      <td>1618713479</td>\n",
       "    </tr>\n",
       "    <tr>\n",
       "      <th>2</th>\n",
       "      <td>cabo san lucas</td>\n",
       "      <td>-8.2833</td>\n",
       "      <td>-35.0333</td>\n",
       "      <td>73.4</td>\n",
       "      <td>94</td>\n",
       "      <td>75</td>\n",
       "      <td>2.30</td>\n",
       "      <td>BR</td>\n",
       "      <td>1618713480</td>\n",
       "    </tr>\n",
       "    <tr>\n",
       "      <th>3</th>\n",
       "      <td>ancud</td>\n",
       "      <td>-41.8697</td>\n",
       "      <td>-73.8203</td>\n",
       "      <td>53.6</td>\n",
       "      <td>87</td>\n",
       "      <td>20</td>\n",
       "      <td>9.22</td>\n",
       "      <td>CL</td>\n",
       "      <td>1618713480</td>\n",
       "    </tr>\n",
       "    <tr>\n",
       "      <th>4</th>\n",
       "      <td>southbridge</td>\n",
       "      <td>42.0751</td>\n",
       "      <td>-72.0334</td>\n",
       "      <td>42.8</td>\n",
       "      <td>70</td>\n",
       "      <td>90</td>\n",
       "      <td>8.05</td>\n",
       "      <td>US</td>\n",
       "      <td>1618713314</td>\n",
       "    </tr>\n",
       "  </tbody>\n",
       "</table>\n",
       "</div>"
      ],
      "text/plain": [
       "             City      Lat      Lng  Max Temp  Humidity  Cloudiness  \\\n",
       "0        tasiilaq  65.6145 -37.6368      23.0        80          90   \n",
       "1            jalu  29.0331  21.5482      77.2        24          16   \n",
       "2  cabo san lucas  -8.2833 -35.0333      73.4        94          75   \n",
       "3           ancud -41.8697 -73.8203      53.6        87          20   \n",
       "4     southbridge  42.0751 -72.0334      42.8        70          90   \n",
       "\n",
       "   Wind Speed Country        Date  \n",
       "0        2.71      GL  1618713479  \n",
       "1        9.35      LY  1618713479  \n",
       "2        2.30      BR  1618713480  \n",
       "3        9.22      CL  1618713480  \n",
       "4        8.05      US  1618713314  "
      ]
     },
     "execution_count": 8,
     "metadata": {},
     "output_type": "execute_result"
    }
   ],
   "source": [
    "weather_list = {\"City\":city_name, \"Lat\":lats, \"Lng\":lngs, \"Max Temp\":temp, \n",
    "                \"Humidity\":humidity, \"Cloudiness\":cloudiness, \"Wind Speed\":wind_speeds, \"Country\":country, \"Date\":date}\n",
    "weather_df = pd.DataFrame(weather_list)\n",
    "\n",
    "weather_df.head()"
   ]
  },
  {
   "cell_type": "code",
   "execution_count": 9,
   "metadata": {},
   "outputs": [
    {
     "data": {
      "text/html": [
       "<div>\n",
       "<style scoped>\n",
       "    .dataframe tbody tr th:only-of-type {\n",
       "        vertical-align: middle;\n",
       "    }\n",
       "\n",
       "    .dataframe tbody tr th {\n",
       "        vertical-align: top;\n",
       "    }\n",
       "\n",
       "    .dataframe thead th {\n",
       "        text-align: right;\n",
       "    }\n",
       "</style>\n",
       "<table border=\"1\" class=\"dataframe\">\n",
       "  <thead>\n",
       "    <tr style=\"text-align: right;\">\n",
       "      <th></th>\n",
       "      <th>Lat</th>\n",
       "      <th>Lng</th>\n",
       "      <th>Max Temp</th>\n",
       "      <th>Humidity</th>\n",
       "      <th>Cloudiness</th>\n",
       "      <th>Wind Speed</th>\n",
       "      <th>Date</th>\n",
       "    </tr>\n",
       "  </thead>\n",
       "  <tbody>\n",
       "    <tr>\n",
       "      <th>count</th>\n",
       "      <td>548.000000</td>\n",
       "      <td>548.000000</td>\n",
       "      <td>548.000000</td>\n",
       "      <td>548.000000</td>\n",
       "      <td>548.000000</td>\n",
       "      <td>548.000000</td>\n",
       "      <td>5.480000e+02</td>\n",
       "    </tr>\n",
       "    <tr>\n",
       "      <th>mean</th>\n",
       "      <td>22.916813</td>\n",
       "      <td>23.494470</td>\n",
       "      <td>59.837482</td>\n",
       "      <td>66.740876</td>\n",
       "      <td>55.386861</td>\n",
       "      <td>7.652117</td>\n",
       "      <td>1.618714e+09</td>\n",
       "    </tr>\n",
       "    <tr>\n",
       "      <th>std</th>\n",
       "      <td>31.232318</td>\n",
       "      <td>86.459087</td>\n",
       "      <td>21.060241</td>\n",
       "      <td>23.204252</td>\n",
       "      <td>38.584506</td>\n",
       "      <td>5.331632</td>\n",
       "      <td>6.986603e+01</td>\n",
       "    </tr>\n",
       "    <tr>\n",
       "      <th>min</th>\n",
       "      <td>-54.800000</td>\n",
       "      <td>-179.166700</td>\n",
       "      <td>-10.050000</td>\n",
       "      <td>7.000000</td>\n",
       "      <td>0.000000</td>\n",
       "      <td>0.360000</td>\n",
       "      <td>1.618713e+09</td>\n",
       "    </tr>\n",
       "    <tr>\n",
       "      <th>25%</th>\n",
       "      <td>-2.899975</td>\n",
       "      <td>-48.115450</td>\n",
       "      <td>43.000000</td>\n",
       "      <td>53.000000</td>\n",
       "      <td>20.000000</td>\n",
       "      <td>3.440000</td>\n",
       "      <td>1.618714e+09</td>\n",
       "    </tr>\n",
       "    <tr>\n",
       "      <th>50%</th>\n",
       "      <td>25.274900</td>\n",
       "      <td>25.099050</td>\n",
       "      <td>62.590000</td>\n",
       "      <td>72.000000</td>\n",
       "      <td>69.500000</td>\n",
       "      <td>6.500000</td>\n",
       "      <td>1.618714e+09</td>\n",
       "    </tr>\n",
       "    <tr>\n",
       "      <th>75%</th>\n",
       "      <td>49.370825</td>\n",
       "      <td>100.490900</td>\n",
       "      <td>78.235000</td>\n",
       "      <td>85.000000</td>\n",
       "      <td>95.000000</td>\n",
       "      <td>10.360000</td>\n",
       "      <td>1.618714e+09</td>\n",
       "    </tr>\n",
       "    <tr>\n",
       "      <th>max</th>\n",
       "      <td>78.218600</td>\n",
       "      <td>179.316700</td>\n",
       "      <td>93.290000</td>\n",
       "      <td>100.000000</td>\n",
       "      <td>100.000000</td>\n",
       "      <td>34.050000</td>\n",
       "      <td>1.618714e+09</td>\n",
       "    </tr>\n",
       "  </tbody>\n",
       "</table>\n",
       "</div>"
      ],
      "text/plain": [
       "              Lat         Lng    Max Temp    Humidity  Cloudiness  Wind Speed  \\\n",
       "count  548.000000  548.000000  548.000000  548.000000  548.000000  548.000000   \n",
       "mean    22.916813   23.494470   59.837482   66.740876   55.386861    7.652117   \n",
       "std     31.232318   86.459087   21.060241   23.204252   38.584506    5.331632   \n",
       "min    -54.800000 -179.166700  -10.050000    7.000000    0.000000    0.360000   \n",
       "25%     -2.899975  -48.115450   43.000000   53.000000   20.000000    3.440000   \n",
       "50%     25.274900   25.099050   62.590000   72.000000   69.500000    6.500000   \n",
       "75%     49.370825  100.490900   78.235000   85.000000   95.000000   10.360000   \n",
       "max     78.218600  179.316700   93.290000  100.000000  100.000000   34.050000   \n",
       "\n",
       "               Date  \n",
       "count  5.480000e+02  \n",
       "mean   1.618714e+09  \n",
       "std    6.986603e+01  \n",
       "min    1.618713e+09  \n",
       "25%    1.618714e+09  \n",
       "50%    1.618714e+09  \n",
       "75%    1.618714e+09  \n",
       "max    1.618714e+09  "
      ]
     },
     "execution_count": 9,
     "metadata": {},
     "output_type": "execute_result"
    }
   ],
   "source": [
    "weather_df.describe()"
   ]
  },
  {
   "cell_type": "code",
   "execution_count": 10,
   "metadata": {},
   "outputs": [],
   "source": [
    "weather_df.to_csv(city_data)"
   ]
  },
  {
   "cell_type": "markdown",
   "metadata": {},
   "source": [
    "## Inspect the data and remove the cities where the humidity > 100%.\n",
    "----\n",
    "Skip this step if there are no cities that have humidity > 100%. "
   ]
  },
  {
   "cell_type": "code",
   "execution_count": null,
   "metadata": {},
   "outputs": [],
   "source": []
  },
  {
   "cell_type": "code",
   "execution_count": 11,
   "metadata": {},
   "outputs": [
    {
     "name": "stdout",
     "output_type": "stream",
     "text": [
      "          City      Lat       Lng  Max Temp  Humidity  Cloudiness  Wind Speed  \\\n",
      "6        conde  -7.2597  -34.9075     73.40       100           0        5.75   \n",
      "145     nemuro  43.3236  145.5750     42.80       100          75       16.11   \n",
      "179   cabedelo  -6.9811  -34.8339     73.40       100           0        5.75   \n",
      "186     torbay  47.6666  -52.7314     35.01       100          90       17.27   \n",
      "288    fortuna  40.5982 -124.1573     53.01       100           1        9.22   \n",
      "316  kolobrzeg  54.1757   15.5834     39.99       100          66        9.22   \n",
      "326   akureyri  65.6835  -18.0878     35.60       100          90        6.91   \n",
      "545      mbini   1.5740    9.6134     77.00       100          40        4.65   \n",
      "\n",
      "    Country        Date  \n",
      "6        BR  1618713481  \n",
      "145      JP  1618713522  \n",
      "179      BR  1618713531  \n",
      "186      CA  1618713333  \n",
      "288      US  1618713563  \n",
      "316      PL  1618713570  \n",
      "326      IS  1618713573  \n",
      "545      GQ  1618713636  \n"
     ]
    }
   ],
   "source": [
    "#  Get the indices of cities that have humidity over 100%.\n",
    "maxhumid =weather_df[weather_df[\"Humidity\"] == 100]\n",
    "\n",
    "print(maxhumid)"
   ]
  },
  {
   "cell_type": "code",
   "execution_count": 12,
   "metadata": {},
   "outputs": [
    {
     "data": {
      "text/html": [
       "<div>\n",
       "<style scoped>\n",
       "    .dataframe tbody tr th:only-of-type {\n",
       "        vertical-align: middle;\n",
       "    }\n",
       "\n",
       "    .dataframe tbody tr th {\n",
       "        vertical-align: top;\n",
       "    }\n",
       "\n",
       "    .dataframe thead th {\n",
       "        text-align: right;\n",
       "    }\n",
       "</style>\n",
       "<table border=\"1\" class=\"dataframe\">\n",
       "  <thead>\n",
       "    <tr style=\"text-align: right;\">\n",
       "      <th></th>\n",
       "      <th>Lat</th>\n",
       "      <th>Lng</th>\n",
       "      <th>Max Temp</th>\n",
       "      <th>Humidity</th>\n",
       "      <th>Cloudiness</th>\n",
       "      <th>Wind Speed</th>\n",
       "      <th>Date</th>\n",
       "    </tr>\n",
       "  </thead>\n",
       "  <tbody>\n",
       "    <tr>\n",
       "      <th>count</th>\n",
       "      <td>539.000000</td>\n",
       "      <td>539.000000</td>\n",
       "      <td>539.000000</td>\n",
       "      <td>539.000000</td>\n",
       "      <td>539.000000</td>\n",
       "      <td>539.000000</td>\n",
       "      <td>5.390000e+02</td>\n",
       "    </tr>\n",
       "    <tr>\n",
       "      <th>mean</th>\n",
       "      <td>22.887269</td>\n",
       "      <td>22.782512</td>\n",
       "      <td>59.850965</td>\n",
       "      <td>66.808905</td>\n",
       "      <td>55.070501</td>\n",
       "      <td>7.651484</td>\n",
       "      <td>1.618714e+09</td>\n",
       "    </tr>\n",
       "    <tr>\n",
       "      <th>std</th>\n",
       "      <td>31.304567</td>\n",
       "      <td>86.654386</td>\n",
       "      <td>20.957203</td>\n",
       "      <td>23.179649</td>\n",
       "      <td>38.522897</td>\n",
       "      <td>5.325092</td>\n",
       "      <td>7.014405e+01</td>\n",
       "    </tr>\n",
       "    <tr>\n",
       "      <th>min</th>\n",
       "      <td>-54.800000</td>\n",
       "      <td>-179.166700</td>\n",
       "      <td>-10.050000</td>\n",
       "      <td>7.000000</td>\n",
       "      <td>0.000000</td>\n",
       "      <td>0.430000</td>\n",
       "      <td>1.618713e+09</td>\n",
       "    </tr>\n",
       "    <tr>\n",
       "      <th>25%</th>\n",
       "      <td>-2.958350</td>\n",
       "      <td>-50.108750</td>\n",
       "      <td>43.000000</td>\n",
       "      <td>53.000000</td>\n",
       "      <td>20.000000</td>\n",
       "      <td>3.440000</td>\n",
       "      <td>1.618714e+09</td>\n",
       "    </tr>\n",
       "    <tr>\n",
       "      <th>50%</th>\n",
       "      <td>25.286700</td>\n",
       "      <td>24.433600</td>\n",
       "      <td>62.580000</td>\n",
       "      <td>72.000000</td>\n",
       "      <td>68.000000</td>\n",
       "      <td>6.490000</td>\n",
       "      <td>1.618714e+09</td>\n",
       "    </tr>\n",
       "    <tr>\n",
       "      <th>75%</th>\n",
       "      <td>49.508350</td>\n",
       "      <td>100.037950</td>\n",
       "      <td>78.110000</td>\n",
       "      <td>85.000000</td>\n",
       "      <td>95.000000</td>\n",
       "      <td>10.315000</td>\n",
       "      <td>1.618714e+09</td>\n",
       "    </tr>\n",
       "    <tr>\n",
       "      <th>max</th>\n",
       "      <td>78.218600</td>\n",
       "      <td>179.316700</td>\n",
       "      <td>93.290000</td>\n",
       "      <td>100.000000</td>\n",
       "      <td>100.000000</td>\n",
       "      <td>34.050000</td>\n",
       "      <td>1.618714e+09</td>\n",
       "    </tr>\n",
       "  </tbody>\n",
       "</table>\n",
       "</div>"
      ],
      "text/plain": [
       "              Lat         Lng    Max Temp    Humidity  Cloudiness  Wind Speed  \\\n",
       "count  539.000000  539.000000  539.000000  539.000000  539.000000  539.000000   \n",
       "mean    22.887269   22.782512   59.850965   66.808905   55.070501    7.651484   \n",
       "std     31.304567   86.654386   20.957203   23.179649   38.522897    5.325092   \n",
       "min    -54.800000 -179.166700  -10.050000    7.000000    0.000000    0.430000   \n",
       "25%     -2.958350  -50.108750   43.000000   53.000000   20.000000    3.440000   \n",
       "50%     25.286700   24.433600   62.580000   72.000000   68.000000    6.490000   \n",
       "75%     49.508350  100.037950   78.110000   85.000000   95.000000   10.315000   \n",
       "max     78.218600  179.316700   93.290000  100.000000  100.000000   34.050000   \n",
       "\n",
       "               Date  \n",
       "count  5.390000e+02  \n",
       "mean   1.618714e+09  \n",
       "std    7.014405e+01  \n",
       "min    1.618713e+09  \n",
       "25%    1.618714e+09  \n",
       "50%    1.618714e+09  \n",
       "75%    1.618714e+09  \n",
       "max    1.618714e+09  "
      ]
     },
     "execution_count": 12,
     "metadata": {},
     "output_type": "execute_result"
    }
   ],
   "source": [
    "new_weather_df = weather_df.drop([74,78,128,215,358,391,421,437,516])\n",
    "new_weather_df.describe()"
   ]
  },
  {
   "cell_type": "code",
   "execution_count": 13,
   "metadata": {},
   "outputs": [
    {
     "data": {
      "text/html": [
       "<div>\n",
       "<style scoped>\n",
       "    .dataframe tbody tr th:only-of-type {\n",
       "        vertical-align: middle;\n",
       "    }\n",
       "\n",
       "    .dataframe tbody tr th {\n",
       "        vertical-align: top;\n",
       "    }\n",
       "\n",
       "    .dataframe thead th {\n",
       "        text-align: right;\n",
       "    }\n",
       "</style>\n",
       "<table border=\"1\" class=\"dataframe\">\n",
       "  <thead>\n",
       "    <tr style=\"text-align: right;\">\n",
       "      <th></th>\n",
       "      <th>City</th>\n",
       "      <th>Lat</th>\n",
       "      <th>Lng</th>\n",
       "      <th>Max Temp</th>\n",
       "      <th>Humidity</th>\n",
       "      <th>Cloudiness</th>\n",
       "      <th>Wind Speed</th>\n",
       "      <th>Country</th>\n",
       "      <th>Date</th>\n",
       "    </tr>\n",
       "  </thead>\n",
       "  <tbody>\n",
       "    <tr>\n",
       "      <th>0</th>\n",
       "      <td>tasiilaq</td>\n",
       "      <td>65.6145</td>\n",
       "      <td>-37.6368</td>\n",
       "      <td>23.0</td>\n",
       "      <td>80</td>\n",
       "      <td>90</td>\n",
       "      <td>2.71</td>\n",
       "      <td>GL</td>\n",
       "      <td>1618713479</td>\n",
       "    </tr>\n",
       "    <tr>\n",
       "      <th>1</th>\n",
       "      <td>jalu</td>\n",
       "      <td>29.0331</td>\n",
       "      <td>21.5482</td>\n",
       "      <td>77.2</td>\n",
       "      <td>24</td>\n",
       "      <td>16</td>\n",
       "      <td>9.35</td>\n",
       "      <td>LY</td>\n",
       "      <td>1618713479</td>\n",
       "    </tr>\n",
       "    <tr>\n",
       "      <th>2</th>\n",
       "      <td>cabo san lucas</td>\n",
       "      <td>-8.2833</td>\n",
       "      <td>-35.0333</td>\n",
       "      <td>73.4</td>\n",
       "      <td>94</td>\n",
       "      <td>75</td>\n",
       "      <td>2.30</td>\n",
       "      <td>BR</td>\n",
       "      <td>1618713480</td>\n",
       "    </tr>\n",
       "    <tr>\n",
       "      <th>3</th>\n",
       "      <td>ancud</td>\n",
       "      <td>-41.8697</td>\n",
       "      <td>-73.8203</td>\n",
       "      <td>53.6</td>\n",
       "      <td>87</td>\n",
       "      <td>20</td>\n",
       "      <td>9.22</td>\n",
       "      <td>CL</td>\n",
       "      <td>1618713480</td>\n",
       "    </tr>\n",
       "    <tr>\n",
       "      <th>4</th>\n",
       "      <td>southbridge</td>\n",
       "      <td>42.0751</td>\n",
       "      <td>-72.0334</td>\n",
       "      <td>42.8</td>\n",
       "      <td>70</td>\n",
       "      <td>90</td>\n",
       "      <td>8.05</td>\n",
       "      <td>US</td>\n",
       "      <td>1618713314</td>\n",
       "    </tr>\n",
       "  </tbody>\n",
       "</table>\n",
       "</div>"
      ],
      "text/plain": [
       "             City      Lat      Lng  Max Temp  Humidity  Cloudiness  \\\n",
       "0        tasiilaq  65.6145 -37.6368      23.0        80          90   \n",
       "1            jalu  29.0331  21.5482      77.2        24          16   \n",
       "2  cabo san lucas  -8.2833 -35.0333      73.4        94          75   \n",
       "3           ancud -41.8697 -73.8203      53.6        87          20   \n",
       "4     southbridge  42.0751 -72.0334      42.8        70          90   \n",
       "\n",
       "   Wind Speed Country        Date  \n",
       "0        2.71      GL  1618713479  \n",
       "1        9.35      LY  1618713479  \n",
       "2        2.30      BR  1618713480  \n",
       "3        9.22      CL  1618713480  \n",
       "4        8.05      US  1618713314  "
      ]
     },
     "execution_count": 13,
     "metadata": {},
     "output_type": "execute_result"
    }
   ],
   "source": [
    "# Make a new DataFrame equal to the city data to drop all humidity outliers by index.\n",
    "# Passing \"inplace=False\" will make a copy of the city_data DataFrame, which we call \"clean_city_data\".\n",
    "new_weather_df.head()"
   ]
  },
  {
   "cell_type": "code",
   "execution_count": null,
   "metadata": {},
   "outputs": [],
   "source": [
    "\n"
   ]
  },
  {
   "cell_type": "markdown",
   "metadata": {},
   "source": [
    "## Plotting the Data\n",
    "* Use proper labeling of the plots using plot titles (including date of analysis) and axes labels.\n",
    "* Save the plotted figures as .pngs."
   ]
  },
  {
   "cell_type": "markdown",
   "metadata": {},
   "source": [
    "## Latitude vs. Temperature Plot"
   ]
  },
  {
   "cell_type": "code",
   "execution_count": 14,
   "metadata": {
    "scrolled": true
   },
   "outputs": [
    {
     "data": {
      "image/png": "[encoded data removed]",
      "text/plain": [
       "<Figure size 432x288 with 1 Axes>"
      ]
     },
     "metadata": {
      "needs_background": "light"
     },
     "output_type": "display_data"
    },
    {
     "data": {
      "text/plain": [
       "<Figure size 432x288 with 0 Axes>"
      ]
     },
     "metadata": {},
     "output_type": "display_data"
    }
   ],
   "source": [
    "plt.scatter(new_weather_df[\"Lat\"], new_weather_df[\"Max Temp\"], edgecolors = \"black\", facecolors = \"darkred\")\n",
    "plt.title(\"Latitude vs Max Temperature\")\n",
    "plt.xlabel(\"Cities' Latitude\")\n",
    "plt.ylabel(\"Cities' Max Tempearture\")\n",
    "plt.grid(b=True,axis = \"both\", color = \"grey\", alpha = float(\".75\"))\n",
    "\n",
    "\n",
    "\n",
    "\n",
    "plt.show()\n",
    "\n",
    "plt.savefig(\"../output_data/fig1.png\")"
   ]
  },
  {
   "cell_type": "markdown",
   "metadata": {},
   "source": [
    "## Latitude vs. Humidity Plot"
   ]
  },
  {
   "cell_type": "code",
   "execution_count": 15,
   "metadata": {},
   "outputs": [
    {
     "data": {
      "image/png": "[encoded data removed]",
      "text/plain": [
       "<Figure size 432x288 with 1 Axes>"
      ]
     },
     "metadata": {
      "needs_background": "light"
     },
     "output_type": "display_data"
    },
    {
     "data": {
      "text/plain": [
       "<Figure size 432x288 with 0 Axes>"
      ]
     },
     "metadata": {},
     "output_type": "display_data"
    }
   ],
   "source": [
    "plt.scatter(new_weather_df[\"Lat\"], new_weather_df[\"Humidity\"], edgecolors = \"black\", facecolors = \"darkred\")\n",
    "plt.title(\"Latitude vs Humidity\")\n",
    "plt.xlabel(\"Cities' Latitude\")\n",
    "plt.ylabel(\"Cities' Humidity%\")\n",
    "plt.grid(b=True,axis = \"both\", color = \"grey\", alpha = float(\".75\"))\n",
    "\n",
    "\n",
    "\n",
    "\n",
    "plt.show()\n",
    "\n",
    "plt.savefig(\"../output_data/fig2.png\")"
   ]
  },
  {
   "cell_type": "markdown",
   "metadata": {},
   "source": [
    "## Latitude vs. Cloudiness Plot"
   ]
  },
  {
   "cell_type": "code",
   "execution_count": 16,
   "metadata": {},
   "outputs": [
    {
     "data": {
      "image/png": "[encoded data removed]",
      "text/plain": [
       "<Figure size 432x288 with 1 Axes>"
      ]
     },
     "metadata": {
      "needs_background": "light"
     },
     "output_type": "display_data"
    },
    {
     "data": {
      "text/plain": [
       "<Figure size 432x288 with 0 Axes>"
      ]
     },
     "metadata": {},
     "output_type": "display_data"
    }
   ],
   "source": [
    "plt.scatter(new_weather_df[\"Lat\"], new_weather_df[\"Cloudiness\"], edgecolors = \"black\", facecolors = \"darkred\")\n",
    "plt.title(\"Latitude vs Cloudiness\")\n",
    "plt.xlabel(\"Cities' Latitude\")\n",
    "plt.ylabel(\"Cities' Cloudiness\")\n",
    "plt.grid(b=True,axis = \"both\", color = \"grey\", alpha = float(\".75\"))\n",
    "\n",
    "\n",
    "\n",
    "\n",
    "plt.show()\n",
    "\n",
    "plt.savefig(\"../output_data/fig3.png\")"
   ]
  },
  {
   "cell_type": "markdown",
   "metadata": {},
   "source": [
    "## Latitude vs. Wind Speed Plot"
   ]
  },
  {
   "cell_type": "code",
   "execution_count": 17,
   "metadata": {},
   "outputs": [
    {
     "data": {
      "image/png": "[encoded data removed]",
      "text/plain": [
       "<Figure size 432x288 with 1 Axes>"
      ]
     },
     "metadata": {
      "needs_background": "light"
     },
     "output_type": "display_data"
    },
    {
     "data": {
      "text/plain": [
       "<Figure size 432x288 with 0 Axes>"
      ]
     },
     "metadata": {},
     "output_type": "display_data"
    }
   ],
   "source": [
    "plt.scatter(new_weather_df[\"Lat\"], new_weather_df[\"Wind Speed\"], edgecolors = \"black\", facecolors = \"darkred\")\n",
    "plt.title(\"Latitude vs Wind Speed\")\n",
    "plt.xlabel(\"Cities' Latitude\")\n",
    "plt.ylabel(\"Cities' Wind Speed\")\n",
    "plt.grid(b=True,axis = \"both\", color = \"grey\", alpha = float(\".75\"))\n",
    "\n",
    "\n",
    "\n",
    "\n",
    "plt.show()\n",
    "\n",
    "plt.savefig(\"../output_data/fig4.png\")"
   ]
  },
  {
   "cell_type": "markdown",
   "metadata": {},
   "source": [
    "## Linear Regression"
   ]
  },
  {
   "cell_type": "code",
   "execution_count": 20,
   "metadata": {},
   "outputs": [
    {
     "ename": "IndexError",
     "evalue": "tuple index out of range",
     "output_type": "error",
     "traceback": [
      "\u001b[1;31m---------------------------------------------------------------------------\u001b[0m",
      "\u001b[1;31mIndexError\u001b[0m                                Traceback (most recent call last)",
      "\u001b[1;32m<ipython-input-20-407bf1c9b6cc>\u001b[0m in \u001b[0;36m<module>\u001b[1;34m\u001b[0m\n\u001b[0;32m      1\u001b[0m \u001b[0mlat_reg\u001b[0m \u001b[1;33m=\u001b[0m \u001b[0mnew_weather_df\u001b[0m\u001b[1;33m.\u001b[0m\u001b[0miloc\u001b[0m\u001b[1;33m[\u001b[0m\u001b[1;33m:\u001b[0m\u001b[1;33m,\u001b[0m\u001b[1;36m1\u001b[0m\u001b[1;33m]\u001b[0m\u001b[1;33m\u001b[0m\u001b[1;33m\u001b[0m\u001b[0m\n\u001b[1;32m----> 2\u001b[1;33m \u001b[0mlat_slope\u001b[0m\u001b[1;33m,\u001b[0m \u001b[0mlat_int\u001b[0m\u001b[1;33m,\u001b[0m \u001b[0mlat_r\u001b[0m\u001b[1;33m,\u001b[0m \u001b[0mlat_p\u001b[0m\u001b[1;33m,\u001b[0m \u001b[0mlat_std_err\u001b[0m \u001b[1;33m=\u001b[0m \u001b[0mlinregress\u001b[0m\u001b[1;33m(\u001b[0m\u001b[0mlat_reg\u001b[0m\u001b[1;33m)\u001b[0m\u001b[1;33m\u001b[0m\u001b[1;33m\u001b[0m\u001b[0m\n\u001b[0m\u001b[0;32m      3\u001b[0m \u001b[1;33m\u001b[0m\u001b[0m\n\u001b[0;32m      4\u001b[0m \u001b[0mnorth\u001b[0m \u001b[1;33m=\u001b[0m \u001b[0mnew_weather_df\u001b[0m\u001b[1;33m.\u001b[0m\u001b[0mloc\u001b[0m\u001b[1;33m[\u001b[0m\u001b[0mnew_weather\u001b[0m\u001b[1;33m[\u001b[0m\u001b[1;34m\"Latitude\"\u001b[0m\u001b[1;33m]\u001b[0m \u001b[1;33m>=\u001b[0m \u001b[1;36m0.0\u001b[0m\u001b[1;33m]\u001b[0m\u001b[1;33m\u001b[0m\u001b[1;33m\u001b[0m\u001b[0m\n\u001b[0;32m      5\u001b[0m \u001b[0mnorth\u001b[0m\u001b[1;33m.\u001b[0m\u001b[0mreset_index\u001b[0m\u001b[1;33m(\u001b[0m\u001b[0minplace\u001b[0m\u001b[1;33m=\u001b[0m\u001b[1;32mTrue\u001b[0m\u001b[1;33m)\u001b[0m\u001b[1;33m\u001b[0m\u001b[1;33m\u001b[0m\u001b[0m\n",
      "\u001b[1;32m~\\anaconda3\\lib\\site-packages\\scipy\\stats\\_stats_mstats_common.py\u001b[0m in \u001b[0;36mlinregress\u001b[1;34m(x, y)\u001b[0m\n\u001b[0;32m     96\u001b[0m         \u001b[1;32mif\u001b[0m \u001b[0mx\u001b[0m\u001b[1;33m.\u001b[0m\u001b[0mshape\u001b[0m\u001b[1;33m[\u001b[0m\u001b[1;36m0\u001b[0m\u001b[1;33m]\u001b[0m \u001b[1;33m==\u001b[0m \u001b[1;36m2\u001b[0m\u001b[1;33m:\u001b[0m\u001b[1;33m\u001b[0m\u001b[1;33m\u001b[0m\u001b[0m\n\u001b[0;32m     97\u001b[0m             \u001b[0mx\u001b[0m\u001b[1;33m,\u001b[0m \u001b[0my\u001b[0m \u001b[1;33m=\u001b[0m \u001b[0mx\u001b[0m\u001b[1;33m\u001b[0m\u001b[1;33m\u001b[0m\u001b[0m\n\u001b[1;32m---> 98\u001b[1;33m         \u001b[1;32melif\u001b[0m \u001b[0mx\u001b[0m\u001b[1;33m.\u001b[0m\u001b[0mshape\u001b[0m\u001b[1;33m[\u001b[0m\u001b[1;36m1\u001b[0m\u001b[1;33m]\u001b[0m \u001b[1;33m==\u001b[0m \u001b[1;36m2\u001b[0m\u001b[1;33m:\u001b[0m\u001b[1;33m\u001b[0m\u001b[1;33m\u001b[0m\u001b[0m\n\u001b[0m\u001b[0;32m     99\u001b[0m             \u001b[0mx\u001b[0m\u001b[1;33m,\u001b[0m \u001b[0my\u001b[0m \u001b[1;33m=\u001b[0m \u001b[0mx\u001b[0m\u001b[1;33m.\u001b[0m\u001b[0mT\u001b[0m\u001b[1;33m\u001b[0m\u001b[1;33m\u001b[0m\u001b[0m\n\u001b[0;32m    100\u001b[0m         \u001b[1;32melse\u001b[0m\u001b[1;33m:\u001b[0m\u001b[1;33m\u001b[0m\u001b[1;33m\u001b[0m\u001b[0m\n",
      "\u001b[1;31mIndexError\u001b[0m: tuple index out of range"
     ]
    }
   ],
   "source": [
    "lat_reg = new_weather_df.iloc[:,1]\n",
    "lat_slope, lat_int, lat_r, lat_p, lat_std_err = linregress(lat_reg)\n",
    "\n",
    "\n"
   ]
  },
  {
   "cell_type": "code",
   "execution_count": 24,
   "metadata": {},
   "outputs": [],
   "source": [
    "north = new_weather_df.loc[new_weather_df[\"Lat\"] >= 0.0]\n",
    "north.reset_index(inplace=True)\n",
    "south = new_weather_df.loc[new_weather_df[\"Lat\"] < 0.0]\n",
    "south.reset_index(inplace=True)"
   ]
  },
  {
   "cell_type": "markdown",
   "metadata": {},
   "source": [
    "####  Northern Hemisphere - Max Temp vs. Latitude Linear Regression"
   ]
  },
  {
   "cell_type": "code",
   "execution_count": 25,
   "metadata": {},
   "outputs": [
    {
     "data": {
      "image/png": "[encoded data removed]",
      "text/plain": [
       "<Figure size 432x288 with 1 Axes>"
      ]
     },
     "metadata": {
      "needs_background": "light"
     },
     "output_type": "display_data"
    }
   ],
   "source": [
    "plt.scatter(north[\"Lat\"], north[\"Max Temp\"], edgecolors = \"black\", facecolors = \"darkred\")\n",
    "plt.title(\"Latitude vs Max Temperature\")\n",
    "plt.xlabel(\"Cities' Latitude\")\n",
    "plt.ylabel(\"Cities' Max Tempearture\")\n",
    "plt.grid(b=True,axis = \"both\", color = \"grey\", alpha = float(\".75\"))\n",
    "\n",
    "\n",
    "\n",
    "\n",
    "plt.show()\n"
   ]
  },
  {
   "cell_type": "markdown",
   "metadata": {},
   "source": [
    "####  Southern Hemisphere - Max Temp vs. Latitude Linear Regression"
   ]
  },
  {
   "cell_type": "code",
   "execution_count": 27,
   "metadata": {},
   "outputs": [
    {
     "data": {
      "image/png": "[encoded data removed]",
      "text/plain": [
       "<Figure size 432x288 with 1 Axes>"
      ]
     },
     "metadata": {
      "needs_background": "light"
     },
     "output_type": "display_data"
    }
   ],
   "source": [
    "plt.scatter(south[\"Lat\"], south[\"Max Temp\"], edgecolors = \"black\", facecolors = \"darkred\")\n",
    "plt.title(\"Latitude vs Max Temperature\")\n",
    "plt.xlabel(\"Cities' Latitude\")\n",
    "plt.ylabel(\"Cities' Max Tempearture\")\n",
    "plt.grid(b=True,axis = \"both\", color = \"grey\", alpha = float(\".75\"))\n",
    "\n",
    "\n",
    "\n",
    "\n",
    "plt.show()\n"
   ]
  },
  {
   "cell_type": "markdown",
   "metadata": {},
   "source": [
    "####  Northern Hemisphere - Humidity (%) vs. Latitude Linear Regression"
   ]
  },
  {
   "cell_type": "code",
   "execution_count": 28,
   "metadata": {},
   "outputs": [
    {
     "data": {
      "image/png": "[encoded data removed]",
      "text/plain": [
       "<Figure size 432x288 with 1 Axes>"
      ]
     },
     "metadata": {
      "needs_background": "light"
     },
     "output_type": "display_data"
    }
   ],
   "source": [
    "plt.scatter(north[\"Lat\"], north[\"Humidity\"], edgecolors = \"black\", facecolors = \"darkred\")\n",
    "plt.title(\"Latitude vs Max Temperature\")\n",
    "plt.xlabel(\"Cities' Latitude\")\n",
    "plt.ylabel(\"Cities' Max Tempearture\")\n",
    "plt.grid(b=True,axis = \"both\", color = \"grey\", alpha = float(\".75\"))\n",
    "\n",
    "\n",
    "\n",
    "\n",
    "plt.show()"
   ]
  },
  {
   "cell_type": "markdown",
   "metadata": {},
   "source": [
    "####  Southern Hemisphere - Humidity (%) vs. Latitude Linear Regression"
   ]
  },
  {
   "cell_type": "code",
   "execution_count": 29,
   "metadata": {},
   "outputs": [
    {
     "data": {
      "image/png": "[encoded data removed]",
      "text/plain": [
       "<Figure size 432x288 with 1 Axes>"
      ]
     },
     "metadata": {
      "needs_background": "light"
     },
     "output_type": "display_data"
    }
   ],
   "source": [
    "plt.scatter(south[\"Lat\"], south[\"Humidity\"], edgecolors = \"black\", facecolors = \"darkred\")\n",
    "plt.title(\"Latitude vs Max Temperature\")\n",
    "plt.xlabel(\"Cities' Latitude\")\n",
    "plt.ylabel(\"Cities' Max Tempearture\")\n",
    "plt.grid(b=True,axis = \"both\", color = \"grey\", alpha = float(\".75\"))\n",
    "\n",
    "\n",
    "\n",
    "\n",
    "plt.show()"
   ]
  },
  {
   "cell_type": "markdown",
   "metadata": {},
   "source": [
    "####  Northern Hemisphere - Cloudiness (%) vs. Latitude Linear Regression"
   ]
  },
  {
   "cell_type": "code",
   "execution_count": 30,
   "metadata": {},
   "outputs": [
    {
     "data": {
      "image/png": "[encoded data removed]",
      "text/plain": [
       "<Figure size 432x288 with 1 Axes>"
      ]
     },
     "metadata": {
      "needs_background": "light"
     },
     "output_type": "display_data"
    }
   ],
   "source": [
    "plt.scatter(north[\"Lat\"], north[\"Cloudiness\"], edgecolors = \"black\", facecolors = \"darkred\")\n",
    "plt.title(\"Latitude vs Max Temperature\")\n",
    "plt.xlabel(\"Cities' Latitude\")\n",
    "plt.ylabel(\"Cities' Max Tempearture\")\n",
    "plt.grid(b=True,axis = \"both\", color = \"grey\", alpha = float(\".75\"))\n",
    "\n",
    "\n",
    "\n",
    "\n",
    "plt.show()"
   ]
  },
  {
   "cell_type": "markdown",
   "metadata": {},
   "source": [
    "####  Southern Hemisphere - Cloudiness (%) vs. Latitude Linear Regression"
   ]
  },
  {
   "cell_type": "code",
   "execution_count": 31,
   "metadata": {},
   "outputs": [
    {
     "data": {
      "image/png": "[encoded data removed]",
      "text/plain": [
       "<Figure size 432x288 with 1 Axes>"
      ]
     },
     "metadata": {
      "needs_background": "light"
     },
     "output_type": "display_data"
    }
   ],
   "source": [
    "plt.scatter(south[\"Lat\"], south[\"Cloudiness\"], edgecolors = \"black\", facecolors = \"darkred\")\n",
    "plt.title(\"Latitude vs Max Temperature\")\n",
    "plt.xlabel(\"Cities' Latitude\")\n",
    "plt.ylabel(\"Cities' Max Tempearture\")\n",
    "plt.grid(b=True,axis = \"both\", color = \"grey\", alpha = float(\".75\"))\n",
    "\n",
    "\n",
    "\n",
    "\n",
    "plt.show()"
   ]
  },
  {
   "cell_type": "markdown",
   "metadata": {},
   "source": [
    "####  Northern Hemisphere - Wind Speed (mph) vs. Latitude Linear Regression"
   ]
  },
  {
   "cell_type": "code",
   "execution_count": 32,
   "metadata": {},
   "outputs": [
    {
     "data": {
      "image/png": "[encoded data removed]",
      "text/plain": [
       "<Figure size 432x288 with 1 Axes>"
      ]
     },
     "metadata": {
      "needs_background": "light"
     },
     "output_type": "display_data"
    }
   ],
   "source": [
    "plt.scatter(north[\"Lat\"], north[\"Wind Speed\"], edgecolors = \"black\", facecolors = \"darkred\")\n",
    "plt.title(\"Latitude vs Max Temperature\")\n",
    "plt.xlabel(\"Cities' Latitude\")\n",
    "plt.ylabel(\"Cities' Max Tempearture\")\n",
    "plt.grid(b=True,axis = \"both\", color = \"grey\", alpha = float(\".75\"))\n",
    "\n",
    "\n",
    "\n",
    "\n",
    "plt.show()"
   ]
  },
  {
   "cell_type": "markdown",
   "metadata": {},
   "source": [
    "####  Southern Hemisphere - Wind Speed (mph) vs. Latitude Linear Regression"
   ]
  },
  {
   "cell_type": "code",
   "execution_count": 33,
   "metadata": {},
   "outputs": [
    {
     "data": {
      "image/png": "[encoded data removed]",
      "text/plain": [
       "<Figure size 432x288 with 1 Axes>"
      ]
     },
     "metadata": {
      "needs_background": "light"
     },
     "output_type": "display_data"
    }
   ],
   "source": [
    "plt.scatter(south[\"Lat\"], south[\"Wind Speed\"], edgecolors = \"black\", facecolors = \"darkred\")\n",
    "plt.title(\"Latitude vs Max Temperature\")\n",
    "plt.xlabel(\"Cities' Latitude\")\n",
    "plt.ylabel(\"Cities' Max Tempearture\")\n",
    "plt.grid(b=True,axis = \"both\", color = \"grey\", alpha = float(\".75\"))\n",
    "\n",
    "\n",
    "\n",
    "\n",
    "plt.show()"
   ]
  },
  {
   "cell_type": "code",
   "execution_count": null,
   "metadata": {},
   "outputs": [],
   "source": []
  }
 ],
 "metadata": {
  "anaconda-cloud": {},
  "kernel_info": {
   "name": "python3"
  },
  "kernelspec": {
   "display_name": "Python 3",
   "language": "python",
   "name": "python3"
  },
  "language_info": {
   "codemirror_mode": {
    "name": "ipython",
    "version": 3
   },
   "file_extension": ".py",
   "mimetype": "text/x-python",
   "name": "python",
   "nbconvert_exporter": "python",
   "pygments_lexer": "ipython3",
   "version": "3.8.5"
  },
  "latex_envs": {
   "LaTeX_envs_menu_present": true,
   "autoclose": false,
   "autocomplete": true,
   "bibliofile": "biblio.bib",
   "cite_by": "apalike",
   "current_citInitial": 1,
   "eqLabelWithNumbers": true,
   "eqNumInitial": 1,
   "hotkeys": {
    "equation": "Ctrl-E",
    "itemize": "Ctrl-I"
   },
   "labels_anchors": false,
   "latex_user_defs": false,
   "report_style_numbering": false,
   "user_envs_cfg": false
  },
  "nteract": {
   "version": "0.12.3"
  }
 },
 "nbformat": 4,
 "nbformat_minor": 2
}
